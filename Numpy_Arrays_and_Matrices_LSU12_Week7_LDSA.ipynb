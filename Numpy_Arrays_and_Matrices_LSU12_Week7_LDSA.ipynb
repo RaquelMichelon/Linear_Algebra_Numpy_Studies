{
  "nbformat": 4,
  "nbformat_minor": 0,
  "metadata": {
    "colab": {
      "name": "Numpy_Arrays_and_Matrices_LSU12_Week7_LDSA.ipynb",
      "provenance": [],
      "authorship_tag": "ABX9TyOBSbF1qOW6hUbcFyFAa1Bl",
      "include_colab_link": true
    },
    "kernelspec": {
      "name": "python3",
      "display_name": "Python 3"
    },
    "language_info": {
      "name": "python"
    }
  },
  "cells": [
    {
      "cell_type": "markdown",
      "metadata": {
        "id": "view-in-github",
        "colab_type": "text"
      },
      "source": [
        "<a href=\"https://colab.research.google.com/github/RaquelMichelon/Linear_Algebra_Numpy_Studies/blob/main/Numpy_Arrays_and_Matrices_LSU12_Week7_LDSA.ipynb\" target=\"_parent\"><img src=\"https://colab.research.google.com/assets/colab-badge.svg\" alt=\"Open In Colab\"/></a>"
      ]
    },
    {
      "cell_type": "markdown",
      "source": [
        "# Linear Algebra Studies: Arrays and Matrices with Numpy\n",
        "\n",
        "---\n",
        "\n"
      ],
      "metadata": {
        "id": "-LW4g5lRd0dY"
      }
    },
    {
      "cell_type": "markdown",
      "source": [
        "## Arrays"
      ],
      "metadata": {
        "id": "VOyLtXf_eEZv"
      }
    },
    {
      "cell_type": "code",
      "execution_count": 3,
      "metadata": {
        "id": "QQTnB_39o3nx"
      },
      "outputs": [],
      "source": [
        "import numpy as np"
      ]
    },
    {
      "cell_type": "code",
      "source": [
        "print? #the docstring will appear on the right corner"
      ],
      "metadata": {
        "colab": {
          "base_uri": "https://localhost:8080/",
          "height": 131
        },
        "id": "JPss9eJlpPCh",
        "outputId": "8eb651af-6a70-450b-aaf7-134ae1d1b1d5"
      },
      "execution_count": 4,
      "outputs": [
        {
          "output_type": "error",
          "ename": "SyntaxError",
          "evalue": "ignored",
          "traceback": [
            "\u001b[0;36m  File \u001b[0;32m\"<ipython-input-4-56f3a3dffb18>\"\u001b[0;36m, line \u001b[0;32m1\u001b[0m\n\u001b[0;31m    print? #the docstring will appear on the right corner\u001b[0m\n\u001b[0m         ^\u001b[0m\n\u001b[0;31mSyntaxError\u001b[0m\u001b[0;31m:\u001b[0m invalid syntax\n"
          ]
        }
      ]
    },
    {
      "cell_type": "code",
      "source": [
        "#ndarray is a colection of items of the same size and types\n",
        "\n",
        "#create an array to represent a vector, using np.array():\n",
        "u = [0, 1, 2]\n",
        "a = np.ndarray(u)\n",
        "a"
      ],
      "metadata": {
        "colab": {
          "base_uri": "https://localhost:8080/"
        },
        "id": "xkUJtTcsrIom",
        "outputId": "7b3015ba-ee24-42b9-8499-a59928bf41a7"
      },
      "execution_count": 5,
      "outputs": [
        {
          "output_type": "execute_result",
          "data": {
            "text/plain": [
              "array([], shape=(0, 1, 2), dtype=float64)"
            ]
          },
          "metadata": {},
          "execution_count": 5
        }
      ]
    },
    {
      "cell_type": "code",
      "source": [
        "#create a table of numbers (a matrix) from a list of lists, using np.array()\n",
        "\n",
        "b = np.array([[0, 1, 2], \n",
        "                [3, 4, 5], \n",
        "                [6, 7, 8]])\n",
        "\n",
        "print(b)"
      ],
      "metadata": {
        "colab": {
          "base_uri": "https://localhost:8080/"
        },
        "id": "j1c6elQ6tLUy",
        "outputId": "a52e7b4e-8eda-4101-cbcf-70f1309f1b55"
      },
      "execution_count": 6,
      "outputs": [
        {
          "output_type": "stream",
          "name": "stdout",
          "text": [
            "[[0 1 2]\n",
            " [3 4 5]\n",
            " [6 7 8]]\n"
          ]
        }
      ]
    },
    {
      "cell_type": "code",
      "source": [
        "#Number of array dimensions\n",
        "\n",
        "a = np.array([0, 1, 2]) #3-dimension row vector\n",
        "a.ndim # number of array dimension = 1 because we can store it in an 1D array"
      ],
      "metadata": {
        "colab": {
          "base_uri": "https://localhost:8080/"
        },
        "id": "uakMgDSNvlsQ",
        "outputId": "022311ee-8d9f-432a-8c15-4239d6e7aa56"
      },
      "execution_count": 7,
      "outputs": [
        {
          "output_type": "execute_result",
          "data": {
            "text/plain": [
              "1"
            ]
          },
          "metadata": {},
          "execution_count": 7
        }
      ]
    },
    {
      "cell_type": "code",
      "source": [
        "b.ndim #b is an 2D array"
      ],
      "metadata": {
        "colab": {
          "base_uri": "https://localhost:8080/"
        },
        "id": "MBGPVAFR6zdA",
        "outputId": "08700c52-5b87-4409-f037-ddff130b10fb"
      },
      "execution_count": 8,
      "outputs": [
        {
          "output_type": "execute_result",
          "data": {
            "text/plain": [
              "2"
            ]
          },
          "metadata": {},
          "execution_count": 8
        }
      ]
    },
    {
      "cell_type": "code",
      "source": [
        "#accessing first row in b\n",
        "\n",
        "b[0]"
      ],
      "metadata": {
        "colab": {
          "base_uri": "https://localhost:8080/"
        },
        "id": "k1_KHk9q7e3c",
        "outputId": "905a2edd-1d2f-48b2-c8bb-c1c5be06487f"
      },
      "execution_count": 9,
      "outputs": [
        {
          "output_type": "execute_result",
          "data": {
            "text/plain": [
              "array([0, 1, 2])"
            ]
          },
          "metadata": {},
          "execution_count": 9
        }
      ]
    },
    {
      "cell_type": "code",
      "source": [
        "#accessing second element in the first row in b\n",
        "b[0][1]"
      ],
      "metadata": {
        "colab": {
          "base_uri": "https://localhost:8080/"
        },
        "id": "NaIzPql97qir",
        "outputId": "5426ce7e-daf3-4493-acef-a551e7baaf69"
      },
      "execution_count": 10,
      "outputs": [
        {
          "output_type": "execute_result",
          "data": {
            "text/plain": [
              "1"
            ]
          },
          "metadata": {},
          "execution_count": 10
        }
      ]
    },
    {
      "cell_type": "code",
      "source": [
        "# Represent a row vector vs. its transpose in an ndarray\n",
        "\n",
        "a = np.array([[0],\n",
        "              [1],\n",
        "              [2]])  # a 2D numpy array, a 3-dimensional COLUMN vector\n",
        "a.ndim  # number of array dimensions"
      ],
      "metadata": {
        "colab": {
          "base_uri": "https://localhost:8080/"
        },
        "id": "FZPvnGIr7xz6",
        "outputId": "b2eff6e3-951d-4025-93d3-0d47ec3ea5ed"
      },
      "execution_count": 11,
      "outputs": [
        {
          "output_type": "execute_result",
          "data": {
            "text/plain": [
              "2"
            ]
          },
          "metadata": {},
          "execution_count": 11
        }
      ]
    },
    {
      "cell_type": "code",
      "source": [
        "#notice the difference\n",
        "\n",
        "# this is a 1D array\n",
        "np.array([0, 1, 2])"
      ],
      "metadata": {
        "colab": {
          "base_uri": "https://localhost:8080/"
        },
        "id": "pwljn43w8QK5",
        "outputId": "cc9a626b-7e71-4e71-aeb9-76ce02b2175a"
      },
      "execution_count": 12,
      "outputs": [
        {
          "output_type": "execute_result",
          "data": {
            "text/plain": [
              "array([0, 1, 2])"
            ]
          },
          "metadata": {},
          "execution_count": 12
        }
      ]
    },
    {
      "cell_type": "code",
      "source": [
        "#and this is an 2D array\n",
        "np.array([[0, 1, 2]])"
      ],
      "metadata": {
        "colab": {
          "base_uri": "https://localhost:8080/"
        },
        "id": "msGcKCtI8heS",
        "outputId": "ad0ad66a-28df-4928-f22c-872ad549f343"
      },
      "execution_count": 13,
      "outputs": [
        {
          "output_type": "execute_result",
          "data": {
            "text/plain": [
              "array([[0, 1, 2]])"
            ]
          },
          "metadata": {},
          "execution_count": 13
        }
      ]
    },
    {
      "cell_type": "code",
      "source": [
        "#Shape of an array is a tuple of integers\n",
        "\n",
        "a = np.array([[0],\n",
        "              [1],\n",
        "              [2]])  # same vector as in the last code cell\n",
        "a.shape  # shape of the array (number of elements in axis 0, number of elements in axis 1)\n",
        "\n"
      ],
      "metadata": {
        "colab": {
          "base_uri": "https://localhost:8080/"
        },
        "id": "Fwxk4xAj8maw",
        "outputId": "e4104de0-dcce-4b4c-de1a-381801777843"
      },
      "execution_count": 14,
      "outputs": [
        {
          "output_type": "execute_result",
          "data": {
            "text/plain": [
              "(3, 1)"
            ]
          },
          "metadata": {},
          "execution_count": 14
        }
      ]
    },
    {
      "cell_type": "markdown",
      "source": [
        "* The underlying class which creates the NumPy array is the class numpy.ndarray. However, it is advisable to construct arrays using its built-in functions, such as array, zeros or ones"
      ],
      "metadata": {
        "id": "vwJ7KoJO9uKJ"
      }
    },
    {
      "cell_type": "code",
      "source": [
        "#Vectors and linear algebra using NumPy\n",
        "\n",
        "#Representing vectors with ndarrays: transpose, reshape()"
      ],
      "metadata": {
        "id": "RPljrhXm9AE_"
      },
      "execution_count": 15,
      "outputs": []
    },
    {
      "cell_type": "code",
      "source": [
        "a = np.array([[0], \n",
        "              [1], \n",
        "              [2], \n",
        "              [3]])  # a 4-dimensional column vector\n",
        "print(\"a:\\n\", a, \"\\n\")\n",
        "print(\"a.shape:\", a.shape)\n",
        "print(\"a.ndim:\", a.ndim)"
      ],
      "metadata": {
        "colab": {
          "base_uri": "https://localhost:8080/"
        },
        "id": "ogWKhzVO-NPF",
        "outputId": "1bc92cfa-d98a-4daf-861c-43c849610236"
      },
      "execution_count": 16,
      "outputs": [
        {
          "output_type": "stream",
          "name": "stdout",
          "text": [
            "a:\n",
            " [[0]\n",
            " [1]\n",
            " [2]\n",
            " [3]] \n",
            "\n",
            "a.shape: (4, 1)\n",
            "a.ndim: 2\n"
          ]
        }
      ]
    },
    {
      "cell_type": "code",
      "source": [
        "#attribute .T (for transpose)\n",
        "\n",
        "a_T = a.T  # the transpose of a\n",
        "print(\"a_T:\", a_T, \"\\n\")\n",
        "print(\"a_T.shape:\", a_T.shape)\n",
        "print(\"a_T.ndim:\", a.ndim)"
      ],
      "metadata": {
        "colab": {
          "base_uri": "https://localhost:8080/"
        },
        "id": "erPn1TMC-PAD",
        "outputId": "3ad6b0e2-ac22-457e-efae-541ffda41eb2"
      },
      "execution_count": 17,
      "outputs": [
        {
          "output_type": "stream",
          "name": "stdout",
          "text": [
            "a_T: [[0 1 2 3]] \n",
            "\n",
            "a_T.shape: (1, 4)\n",
            "a_T.ndim: 2\n"
          ]
        }
      ]
    },
    {
      "cell_type": "code",
      "source": [
        "#1D array\n",
        "\n",
        "print(\"shape of 1D array: \", np.array([0,1,2,3]).shape)\n",
        "print(\"shape of the transpose of 1D array: \", np.array([0,1,2,3]).T.shape)"
      ],
      "metadata": {
        "colab": {
          "base_uri": "https://localhost:8080/"
        },
        "id": "JRAo6LY5-gMe",
        "outputId": "ec4d1b82-e2cb-4e1d-84e8-7f4e00a385f9"
      },
      "execution_count": 18,
      "outputs": [
        {
          "output_type": "stream",
          "name": "stdout",
          "text": [
            "shape of 1D array:  (4,)\n",
            "shape of the transpose of 1D array:  (4,)\n"
          ]
        }
      ]
    },
    {
      "cell_type": "code",
      "source": [
        "#reshape method allows you to reshape an array of data to any given shape\n",
        "\n",
        "array_1d = np.array([0, 1, 2, 3, 4, 5])  # 1-dimensional array, with 6 elements, shape is (6, )\n",
        "print(array_1d)\n",
        "print(\"shape: \", array_1d.shape)"
      ],
      "metadata": {
        "colab": {
          "base_uri": "https://localhost:8080/"
        },
        "id": "0mSYcj7P-rEg",
        "outputId": "af5ff8d1-ebb5-4785-f9e3-1df987a970f0"
      },
      "execution_count": 19,
      "outputs": [
        {
          "output_type": "stream",
          "name": "stdout",
          "text": [
            "[0 1 2 3 4 5]\n",
            "shape:  (6,)\n"
          ]
        }
      ]
    },
    {
      "cell_type": "code",
      "source": [
        "array_reshaped = array_1d.reshape((3, 2))  # reshape to a table!\n",
        "print(array_reshaped)\n",
        "print(\"shape: \", array_reshaped.shape)"
      ],
      "metadata": {
        "colab": {
          "base_uri": "https://localhost:8080/"
        },
        "id": "4wSNUq0V_FHq",
        "outputId": "99b26eea-ccc6-4acd-f5e1-ecbeb7cda3b1"
      },
      "execution_count": 20,
      "outputs": [
        {
          "output_type": "stream",
          "name": "stdout",
          "text": [
            "[[0 1]\n",
            " [2 3]\n",
            " [4 5]]\n",
            "shape:  (3, 2)\n"
          ]
        }
      ]
    },
    {
      "cell_type": "code",
      "source": [
        "try:\n",
        "    array_1d.reshape((4, 2))\n",
        "except ValueError as e:\n",
        "    print(\"ValueError:\", e)"
      ],
      "metadata": {
        "colab": {
          "base_uri": "https://localhost:8080/"
        },
        "id": "-ja5B7_yAg2S",
        "outputId": "c43878c1-576f-4283-8a2c-c821ec2a3722"
      },
      "execution_count": 21,
      "outputs": [
        {
          "output_type": "stream",
          "name": "stdout",
          "text": [
            "ValueError: cannot reshape array of size 6 into shape (4,2)\n"
          ]
        }
      ]
    },
    {
      "cell_type": "code",
      "source": [
        "#Creating row and column vectors with reshape()\n",
        "\n",
        "a = np.array([0,1,2,3])  # vector represented by a 1D array\n",
        "a.shape  # shape of array a"
      ],
      "metadata": {
        "colab": {
          "base_uri": "https://localhost:8080/"
        },
        "id": "EUUZmpPqAqKc",
        "outputId": "21994f9f-fde6-4d67-9e2c-6e0fefe0b358"
      },
      "execution_count": 22,
      "outputs": [
        {
          "output_type": "execute_result",
          "data": {
            "text/plain": [
              "(4,)"
            ]
          },
          "metadata": {},
          "execution_count": 22
        }
      ]
    },
    {
      "cell_type": "code",
      "source": [
        "a_row = a.reshape((1, -1))  # use reshape to get a 2D array representation of a row vector\n",
        "print(\"a_row:\\n\", a_row, \"\\n\")\n",
        "print(\"a_row.shape:\", a_row.shape)"
      ],
      "metadata": {
        "colab": {
          "base_uri": "https://localhost:8080/"
        },
        "id": "amtBySFfBILb",
        "outputId": "89dd8333-ae6f-4609-bd65-8c91d5fa5a39"
      },
      "execution_count": 23,
      "outputs": [
        {
          "output_type": "stream",
          "name": "stdout",
          "text": [
            "a_row:\n",
            " [[0 1 2 3]] \n",
            "\n",
            "a_row.shape: (1, 4)\n"
          ]
        }
      ]
    },
    {
      "cell_type": "code",
      "source": [
        "a_column = a.reshape((-1, 1))  # use reshape to get a 2D array representation of a column vector\n",
        "print(\"a_column:\\n\", a_column, \"\\n\")\n",
        "print(\"a_column.shape:\", a_column.shape)"
      ],
      "metadata": {
        "colab": {
          "base_uri": "https://localhost:8080/"
        },
        "id": "KvxAXG-aBMBr",
        "outputId": "58dd4b32-9eb9-4a14-9c8e-e65d58f06145"
      },
      "execution_count": 24,
      "outputs": [
        {
          "output_type": "stream",
          "name": "stdout",
          "text": [
            "a_column:\n",
            " [[0]\n",
            " [1]\n",
            " [2]\n",
            " [3]] \n",
            "\n",
            "a_column.shape: (4, 1)\n"
          ]
        }
      ]
    },
    {
      "cell_type": "code",
      "source": [
        "#Because we now have our vector in a 2D array, we could use the transpose attribute safely:\n",
        "\n",
        "# same result\n",
        "print(a_column.T)"
      ],
      "metadata": {
        "colab": {
          "base_uri": "https://localhost:8080/"
        },
        "id": "VC3hayQAEyG3",
        "outputId": "48d63eb5-a6c1-460f-bfd8-707c59b6900a"
      },
      "execution_count": 25,
      "outputs": [
        {
          "output_type": "stream",
          "name": "stdout",
          "text": [
            "[[0 1 2 3]]\n"
          ]
        }
      ]
    },
    {
      "cell_type": "code",
      "source": [
        "#NumPy also has a module called numpy.linalg, which is entirely dedicated to linear algebra operations\n",
        "\n",
        "#Vector norm using numpy.linalg.norm()\n",
        "\n",
        "np.linalg.norm?"
      ],
      "metadata": {
        "id": "Av-6BJbSE769"
      },
      "execution_count": 26,
      "outputs": []
    },
    {
      "cell_type": "code",
      "source": [
        "#determine the norm of the vector\n",
        "a = np.array([[-1],\n",
        "              [2]])\n",
        "np.linalg.norm(a)"
      ],
      "metadata": {
        "colab": {
          "base_uri": "https://localhost:8080/"
        },
        "id": "W3QNJeO0FaRJ",
        "outputId": "b3537f9f-8b7c-46b7-9239-8336f6f7a714"
      },
      "execution_count": 27,
      "outputs": [
        {
          "output_type": "execute_result",
          "data": {
            "text/plain": [
              "2.23606797749979"
            ]
          },
          "metadata": {},
          "execution_count": 27
        }
      ]
    },
    {
      "cell_type": "code",
      "source": [
        "# np.sqrt() computes the square root value of its input\n",
        "np.sqrt(5)"
      ],
      "metadata": {
        "colab": {
          "base_uri": "https://localhost:8080/"
        },
        "id": "jgYlCc8SFlIk",
        "outputId": "f3d9d562-653f-455f-87d9-7036f08486d0"
      },
      "execution_count": 28,
      "outputs": [
        {
          "output_type": "execute_result",
          "data": {
            "text/plain": [
              "2.23606797749979"
            ]
          },
          "metadata": {},
          "execution_count": 28
        }
      ]
    },
    {
      "cell_type": "code",
      "source": [
        "#Vector operations (multiplication by scalars and addition)\n",
        "\n",
        "# let's create two ndarrays representing 4-dimensional vectors\n",
        "u = np.array([1, 0, 1, 1])\n",
        "v = np.array([1, -2, 0, 1])\n",
        "\n",
        "# print vectors to check your lucky numbers\n",
        "print(f\"u = {u}\")\n",
        "print(f\"v = {v}\\n\")\n"
      ],
      "metadata": {
        "colab": {
          "base_uri": "https://localhost:8080/"
        },
        "id": "0CtpBL3EFlv-",
        "outputId": "db2b7ede-e11e-4a31-d42d-4a5ebf65da9b"
      },
      "execution_count": 29,
      "outputs": [
        {
          "output_type": "stream",
          "name": "stdout",
          "text": [
            "u = [1 0 1 1]\n",
            "v = [ 1 -2  0  1]\n",
            "\n"
          ]
        }
      ]
    },
    {
      "cell_type": "code",
      "source": [
        "# multiplication by a scalar\n",
        "-(1/2) * u"
      ],
      "metadata": {
        "colab": {
          "base_uri": "https://localhost:8080/"
        },
        "id": "Blv9YpvAHgQh",
        "outputId": "144ccbac-d83f-49fe-8b7d-e7e2d5e6f935"
      },
      "execution_count": 30,
      "outputs": [
        {
          "output_type": "execute_result",
          "data": {
            "text/plain": [
              "array([-0.5, -0. , -0.5, -0.5])"
            ]
          },
          "metadata": {},
          "execution_count": 30
        }
      ]
    },
    {
      "cell_type": "code",
      "source": [
        "# addition\n",
        "u + v"
      ],
      "metadata": {
        "colab": {
          "base_uri": "https://localhost:8080/"
        },
        "id": "fu5QQzEZHsZn",
        "outputId": "aa61a5c7-5c4c-43e9-cf50-e9cbeb1c0ac0"
      },
      "execution_count": 31,
      "outputs": [
        {
          "output_type": "execute_result",
          "data": {
            "text/plain": [
              "array([ 2, -2,  1,  2])"
            ]
          },
          "metadata": {},
          "execution_count": 31
        }
      ]
    },
    {
      "cell_type": "code",
      "source": [
        "# linear combination\n",
        "(-(1/2) * u)  + (1 * v)"
      ],
      "metadata": {
        "colab": {
          "base_uri": "https://localhost:8080/"
        },
        "id": "b5uU5OBAHvGZ",
        "outputId": "76e56cc2-7e1c-4e48-ee32-72d541ee85f6"
      },
      "execution_count": 32,
      "outputs": [
        {
          "output_type": "execute_result",
          "data": {
            "text/plain": [
              "array([ 0.5, -2. , -0.5,  0.5])"
            ]
          },
          "metadata": {},
          "execution_count": 32
        }
      ]
    },
    {
      "cell_type": "code",
      "source": [
        "#Dot product\n",
        "\n",
        "#numpy.dot to determine the dot product of two vectors\n",
        "\n",
        "# create two vectors using numpy arrays\n",
        "u = np.array([-1, 2, 2])  # row vector, 1D array\n",
        "v = np.array([-2, 1, 1])  # row vector, 1D array\n",
        "\n",
        "# determine the dot product between vectors u and v\n",
        "np.dot(u, v)"
      ],
      "metadata": {
        "colab": {
          "base_uri": "https://localhost:8080/"
        },
        "id": "urkXXDekHxFV",
        "outputId": "5e048afd-515e-4c47-e715-d4e26b26be65"
      },
      "execution_count": 33,
      "outputs": [
        {
          "output_type": "execute_result",
          "data": {
            "text/plain": [
              "6"
            ]
          },
          "metadata": {},
          "execution_count": 33
        }
      ]
    },
    {
      "cell_type": "code",
      "source": [
        "# create two vectors using numpy arrays\n",
        "u = np.array([-1, 2, 2]).reshape((1, 3))  # row vector, 2D array\n",
        "v = np.array([-2, 1, 1])  # row vector, 1D array\n",
        "\n",
        "# determine the dot product between vectors u and v\n",
        "np.dot(u, v)"
      ],
      "metadata": {
        "colab": {
          "base_uri": "https://localhost:8080/"
        },
        "id": "Bu8OU8ScH8Lv",
        "outputId": "3b8aa423-5477-4e67-f103-01aad3c7cea9"
      },
      "execution_count": 34,
      "outputs": [
        {
          "output_type": "execute_result",
          "data": {
            "text/plain": [
              "array([6])"
            ]
          },
          "metadata": {},
          "execution_count": 34
        }
      ]
    },
    {
      "cell_type": "code",
      "source": [
        "# let's check those results \"by hand\", because we love linear algebra!\n",
        "((-1) * (-2)) + (2 * 1) + (2 * 1)"
      ],
      "metadata": {
        "colab": {
          "base_uri": "https://localhost:8080/"
        },
        "id": "QYLZMooEH_DL",
        "outputId": "9fdecacd-cea3-4a50-906c-23c5f2a7f357"
      },
      "execution_count": 35,
      "outputs": [
        {
          "output_type": "execute_result",
          "data": {
            "text/plain": [
              "6"
            ]
          },
          "metadata": {},
          "execution_count": 35
        }
      ]
    },
    {
      "cell_type": "code",
      "source": [
        ""
      ],
      "metadata": {
        "id": "aQBmpj4kIDAZ"
      },
      "execution_count": 35,
      "outputs": []
    },
    {
      "cell_type": "markdown",
      "source": [
        "## Matrices\n"
      ],
      "metadata": {
        "id": "O8IRiDZWeJBE"
      }
    },
    {
      "cell_type": "code",
      "source": [
        "# a 2x3 matrix\n",
        "A = np.array([\n",
        "    [2, 0.1, -1],\n",
        "    [3, 1/5, np.sqrt(2)]  # np.sqrt(2) is the square root of 2; np.sqrt() can also be used for arrays\n",
        "])\n",
        "\n",
        "# a 2x3 matrix\n",
        "B = np.array([[-2, -2, 1],\n",
        "              [0, 1, 1]])\n",
        "\n",
        "# show our matrices\n",
        "print(\"A\\n:\", A, \"\\n\")\n",
        "print(\"B\\n:\", B)"
      ],
      "metadata": {
        "colab": {
          "base_uri": "https://localhost:8080/"
        },
        "id": "82sG6XoFeKud",
        "outputId": "1d89a7f6-cecb-43da-83bb-6f2a55b746a0"
      },
      "execution_count": 36,
      "outputs": [
        {
          "output_type": "stream",
          "name": "stdout",
          "text": [
            "A\n",
            ": [[ 2.          0.1        -1.        ]\n",
            " [ 3.          0.2         1.41421356]] \n",
            "\n",
            "B\n",
            ": [[-2 -2  1]\n",
            " [ 0  1  1]]\n"
          ]
        }
      ]
    },
    {
      "cell_type": "code",
      "source": [
        "# print shape and number of dimensions of array A\n",
        "print(\"A.shape:\", A.shape)\n",
        "print(\"A.ndim:\", A.ndim)\n",
        "\n",
        "# print shape and number of dimensions of array B\n",
        "print(\"B.shape:\", B.shape)\n",
        "print(\"B.ndim:\", B.ndim)"
      ],
      "metadata": {
        "colab": {
          "base_uri": "https://localhost:8080/"
        },
        "id": "YDqPEeDEeXTc",
        "outputId": "c122097b-5dbe-4470-dac8-1a9ab31ad35a"
      },
      "execution_count": 37,
      "outputs": [
        {
          "output_type": "stream",
          "name": "stdout",
          "text": [
            "A.shape: (2, 3)\n",
            "A.ndim: 2\n",
            "B.shape: (2, 3)\n",
            "B.ndim: 2\n"
          ]
        }
      ]
    },
    {
      "cell_type": "code",
      "source": [
        "# The shape of array A is (2, 3)...  that's the dimension of the matrix , 2x3"
      ],
      "metadata": {
        "id": "uA-SnaN-e5cd"
      },
      "execution_count": 38,
      "outputs": []
    },
    {
      "cell_type": "code",
      "source": [
        "# Special matrices\n",
        "\n",
        "# a zero matrix of size 4x2\n",
        "np.zeros((4,2))"
      ],
      "metadata": {
        "colab": {
          "base_uri": "https://localhost:8080/"
        },
        "id": "eGR2wA_rfPsv",
        "outputId": "9f42a473-76a4-426b-f3ec-d3aa93d6d074"
      },
      "execution_count": 39,
      "outputs": [
        {
          "output_type": "execute_result",
          "data": {
            "text/plain": [
              "array([[0., 0.],\n",
              "       [0., 0.],\n",
              "       [0., 0.],\n",
              "       [0., 0.]])"
            ]
          },
          "metadata": {},
          "execution_count": 39
        }
      ]
    },
    {
      "cell_type": "code",
      "source": [
        "# identity matrix of size 5x5 (also is square & diagonal),\n",
        "# represented by an array (shape = (5, 5))\n",
        "I = np.identity(5)  # the input is the number of rows (or columns)\n",
        "I"
      ],
      "metadata": {
        "colab": {
          "base_uri": "https://localhost:8080/"
        },
        "id": "FIBxtqUrfYJ9",
        "outputId": "0e1f6d60-9df1-434f-8883-4ebbc4d56a3b"
      },
      "execution_count": 40,
      "outputs": [
        {
          "output_type": "execute_result",
          "data": {
            "text/plain": [
              "array([[1., 0., 0., 0., 0.],\n",
              "       [0., 1., 0., 0., 0.],\n",
              "       [0., 0., 1., 0., 0.],\n",
              "       [0., 0., 0., 1., 0.],\n",
              "       [0., 0., 0., 0., 1.]])"
            ]
          },
          "metadata": {},
          "execution_count": 40
        }
      ]
    },
    {
      "cell_type": "code",
      "source": [
        "#  Matrix operations\n",
        "\n",
        "#Multiplication by a scalar\n",
        "\n",
        "print(\"Matrix B:\")\n",
        "print(B)"
      ],
      "metadata": {
        "colab": {
          "base_uri": "https://localhost:8080/"
        },
        "id": "0NmvemNYfbmJ",
        "outputId": "584ac85b-b0ff-4e65-f291-39f7c0192044"
      },
      "execution_count": 41,
      "outputs": [
        {
          "output_type": "stream",
          "name": "stdout",
          "text": [
            "Matrix B:\n",
            "[[-2 -2  1]\n",
            " [ 0  1  1]]\n"
          ]
        }
      ]
    },
    {
      "cell_type": "code",
      "source": [
        "0.5 * B  # simply use the Python multiplication operator *\n"
      ],
      "metadata": {
        "colab": {
          "base_uri": "https://localhost:8080/"
        },
        "id": "A7mx8TxcfybY",
        "outputId": "37ec568c-ba6f-4e78-8174-5a2adf4b8b0c"
      },
      "execution_count": 42,
      "outputs": [
        {
          "output_type": "execute_result",
          "data": {
            "text/plain": [
              "array([[-1. , -1. ,  0.5],\n",
              "       [ 0. ,  0.5,  0.5]])"
            ]
          },
          "metadata": {},
          "execution_count": 42
        }
      ]
    },
    {
      "cell_type": "code",
      "source": [
        "#Addition (and subtraction) of matrices\n",
        "\n",
        "print(\"Matrix A:\\n\", A, \"\\n\")\n",
        "print(\"Matrix B:\\n\", B)"
      ],
      "metadata": {
        "colab": {
          "base_uri": "https://localhost:8080/"
        },
        "id": "rtdLXCzqf46y",
        "outputId": "a6b13a5e-2048-4f1d-d227-f315d169bcbe"
      },
      "execution_count": 43,
      "outputs": [
        {
          "output_type": "stream",
          "name": "stdout",
          "text": [
            "Matrix A:\n",
            " [[ 2.          0.1        -1.        ]\n",
            " [ 3.          0.2         1.41421356]] \n",
            "\n",
            "Matrix B:\n",
            " [[-2 -2  1]\n",
            " [ 0  1  1]]\n"
          ]
        }
      ]
    },
    {
      "cell_type": "code",
      "source": [
        "A + B  # simply use the Python addition operator +\n"
      ],
      "metadata": {
        "colab": {
          "base_uri": "https://localhost:8080/"
        },
        "id": "Ul97rha-f_wC",
        "outputId": "8a9b13b0-99a7-4622-999c-c5eb167b9a08"
      },
      "execution_count": 44,
      "outputs": [
        {
          "output_type": "execute_result",
          "data": {
            "text/plain": [
              "array([[ 0.        , -1.9       ,  0.        ],\n",
              "       [ 3.        ,  1.2       ,  2.41421356]])"
            ]
          },
          "metadata": {},
          "execution_count": 44
        }
      ]
    },
    {
      "cell_type": "code",
      "source": [
        "A - B  # simply use the Python subtraction operator -\n"
      ],
      "metadata": {
        "colab": {
          "base_uri": "https://localhost:8080/"
        },
        "id": "D6R4JwzMgCUa",
        "outputId": "0e7db10b-91e1-447c-ac9d-0d14f5ec707e"
      },
      "execution_count": 45,
      "outputs": [
        {
          "output_type": "execute_result",
          "data": {
            "text/plain": [
              "array([[ 4.        ,  2.1       , -2.        ],\n",
              "       [ 3.        , -0.8       ,  0.41421356]])"
            ]
          },
          "metadata": {},
          "execution_count": 45
        }
      ]
    },
    {
      "cell_type": "code",
      "source": [
        "#Properties of matrix addition and multiplication by scalars\n",
        "\n",
        "#function numpy.array_equal() allows to compare two arrays for both shape and element equality\n",
        "\n",
        "# create a matrix \n",
        "C = np.array([[-2, 1, -1],\n",
        "              [-2, 1, 1]])"
      ],
      "metadata": {
        "id": "rbb-9-qzgEoh"
      },
      "execution_count": 46,
      "outputs": []
    },
    {
      "cell_type": "code",
      "source": [
        "# print the matrices\n",
        "print(\"Matrix A:\\n\", A)\n",
        "print(\"Matrix B:\\n\", B)\n",
        "print(\"Matrix C:\\n\", C)"
      ],
      "metadata": {
        "colab": {
          "base_uri": "https://localhost:8080/"
        },
        "id": "AeyUOHAz4Di-",
        "outputId": "c124e0e4-81ad-4dc6-8324-50d9a62a4cb3"
      },
      "execution_count": 47,
      "outputs": [
        {
          "output_type": "stream",
          "name": "stdout",
          "text": [
            "Matrix A:\n",
            " [[ 2.          0.1        -1.        ]\n",
            " [ 3.          0.2         1.41421356]]\n",
            "Matrix B:\n",
            " [[-2 -2  1]\n",
            " [ 0  1  1]]\n",
            "Matrix C:\n",
            " [[-2  1 -1]\n",
            " [-2  1  1]]\n"
          ]
        }
      ]
    },
    {
      "cell_type": "code",
      "source": [
        "#Distributivity of a scalar when adding two matrices\n",
        "\n",
        "c = 2  # a scalar\n",
        "np.array_equal(c * (A + B), (c * A) + (c * B))"
      ],
      "metadata": {
        "colab": {
          "base_uri": "https://localhost:8080/"
        },
        "id": "kzRQ1wMD4GvL",
        "outputId": "7613ab7a-98f9-41e8-f69e-36a1bda4dfdc"
      },
      "execution_count": 48,
      "outputs": [
        {
          "output_type": "execute_result",
          "data": {
            "text/plain": [
              "True"
            ]
          },
          "metadata": {},
          "execution_count": 48
        }
      ]
    },
    {
      "cell_type": "code",
      "source": [
        "#the == operator will compare the entries element-wise, and not the entire arrays at once\n",
        "c * (A + B) == (c * A) + (c * B)"
      ],
      "metadata": {
        "colab": {
          "base_uri": "https://localhost:8080/"
        },
        "id": "LGXk-HLS4Lk7",
        "outputId": "d813a295-7b1a-4067-b647-15ec1933808b"
      },
      "execution_count": 49,
      "outputs": [
        {
          "output_type": "execute_result",
          "data": {
            "text/plain": [
              "array([[ True,  True,  True],\n",
              "       [ True,  True,  True]])"
            ]
          },
          "metadata": {},
          "execution_count": 49
        }
      ]
    },
    {
      "cell_type": "code",
      "source": [
        "#Associativity of matrix addition\n",
        "\n",
        "np.array_equal(A + (B + C), (A + B) + C)"
      ],
      "metadata": {
        "colab": {
          "base_uri": "https://localhost:8080/"
        },
        "id": "xPw0vU7o4YvM",
        "outputId": "8af0f2f1-0f87-4923-c532-e9139dd14459"
      },
      "execution_count": 50,
      "outputs": [
        {
          "output_type": "execute_result",
          "data": {
            "text/plain": [
              "False"
            ]
          },
          "metadata": {},
          "execution_count": 50
        }
      ]
    },
    {
      "cell_type": "code",
      "source": [
        "A + (B + C)"
      ],
      "metadata": {
        "colab": {
          "base_uri": "https://localhost:8080/"
        },
        "id": "rPbgyn2U4l44",
        "outputId": "31e251db-f11e-4a57-cca3-854e0086848a"
      },
      "execution_count": 51,
      "outputs": [
        {
          "output_type": "execute_result",
          "data": {
            "text/plain": [
              "array([[-2.        , -0.9       , -1.        ],\n",
              "       [ 1.        ,  2.2       ,  3.41421356]])"
            ]
          },
          "metadata": {},
          "execution_count": 51
        }
      ]
    },
    {
      "cell_type": "code",
      "source": [
        "(A + B) + C"
      ],
      "metadata": {
        "colab": {
          "base_uri": "https://localhost:8080/"
        },
        "id": "H4eav33C4uuT",
        "outputId": "0aad5515-b012-40c8-d4af-1032550cfa0b"
      },
      "execution_count": 52,
      "outputs": [
        {
          "output_type": "execute_result",
          "data": {
            "text/plain": [
              "array([[-2.        , -0.9       , -1.        ],\n",
              "       [ 1.        ,  2.2       ,  3.41421356]])"
            ]
          },
          "metadata": {},
          "execution_count": 52
        }
      ]
    },
    {
      "cell_type": "code",
      "source": [
        "#under the hood, NumPy is making some approximations on the value of the last element \n",
        "#(computers don't have infinite memory to save all the decimal cases we need!). \n",
        "#Let's first round all the elements to a lower number of decimal cases, using .round(), \n",
        "#prior to the comparison made by numpy.array_equal. This way we ensure we are comparing \n",
        "#only up to a certain number of decimal cases.\n",
        "\n",
        "\n",
        "np.array_equal((A + (B + C)).round(2), \n",
        "               ((A + B) + C).round(2))"
      ],
      "metadata": {
        "colab": {
          "base_uri": "https://localhost:8080/"
        },
        "id": "MDtp2uXs4wcQ",
        "outputId": "cf78d5b7-3f20-4bcc-bff7-d639ca6b2adb"
      },
      "execution_count": 53,
      "outputs": [
        {
          "output_type": "execute_result",
          "data": {
            "text/plain": [
              "True"
            ]
          },
          "metadata": {},
          "execution_count": 53
        }
      ]
    },
    {
      "cell_type": "code",
      "source": [
        "#Transpose\n",
        "\n",
        "print(\"Matrix A:\\n\", A)"
      ],
      "metadata": {
        "colab": {
          "base_uri": "https://localhost:8080/"
        },
        "id": "Q1PIKCyX5ELk",
        "outputId": "d62bc564-10bd-4820-eaad-9afaeb9de8b5"
      },
      "execution_count": 54,
      "outputs": [
        {
          "output_type": "stream",
          "name": "stdout",
          "text": [
            "Matrix A:\n",
            " [[ 2.          0.1        -1.        ]\n",
            " [ 3.          0.2         1.41421356]]\n"
          ]
        }
      ]
    },
    {
      "cell_type": "code",
      "source": [
        "A_T = np.transpose(A)  # same as A.T\n",
        "A_T"
      ],
      "metadata": {
        "colab": {
          "base_uri": "https://localhost:8080/"
        },
        "id": "3LNiHgu_5KvG",
        "outputId": "c1e60f87-3f70-428e-d99c-ee786871f978"
      },
      "execution_count": 55,
      "outputs": [
        {
          "output_type": "execute_result",
          "data": {
            "text/plain": [
              "array([[ 2.        ,  3.        ],\n",
              "       [ 0.1       ,  0.2       ],\n",
              "       [-1.        ,  1.41421356]])"
            ]
          },
          "metadata": {},
          "execution_count": 55
        }
      ]
    },
    {
      "cell_type": "code",
      "source": [
        "#Accessing rows and columns in 2D arrays\n",
        "\n",
        "# 3x2 matrix represented as a list\n",
        "a_list = [[1, 2], [3, 4], [5, 6]]"
      ],
      "metadata": {
        "id": "LpqeMo1q5Nxo"
      },
      "execution_count": 56,
      "outputs": []
    },
    {
      "cell_type": "code",
      "source": [
        "# the same 3x2 matrix represented by an array\n",
        "a_array = np.array([[1, 2], [3, 4], [5, 6]])"
      ],
      "metadata": {
        "id": "cjmYds0D5VA2"
      },
      "execution_count": 57,
      "outputs": []
    },
    {
      "cell_type": "code",
      "source": [
        "a_list"
      ],
      "metadata": {
        "colab": {
          "base_uri": "https://localhost:8080/"
        },
        "id": "EAT6VaSd5XUv",
        "outputId": "d006e1f5-d8be-478f-c4d8-618d6b8d9df2"
      },
      "execution_count": 58,
      "outputs": [
        {
          "output_type": "execute_result",
          "data": {
            "text/plain": [
              "[[1, 2], [3, 4], [5, 6]]"
            ]
          },
          "metadata": {},
          "execution_count": 58
        }
      ]
    },
    {
      "cell_type": "code",
      "source": [
        "a_array"
      ],
      "metadata": {
        "colab": {
          "base_uri": "https://localhost:8080/"
        },
        "id": "-PeRpnSU5ZKu",
        "outputId": "354e7b39-6f14-49a0-ce63-63d100891ceb"
      },
      "execution_count": 59,
      "outputs": [
        {
          "output_type": "execute_result",
          "data": {
            "text/plain": [
              "array([[1, 2],\n",
              "       [3, 4],\n",
              "       [5, 6]])"
            ]
          },
          "metadata": {},
          "execution_count": 59
        }
      ]
    },
    {
      "cell_type": "code",
      "source": [
        "a_array.shape\n"
      ],
      "metadata": {
        "colab": {
          "base_uri": "https://localhost:8080/"
        },
        "id": "N7WYQNaD5ar-",
        "outputId": "17439837-5567-47a2-fce1-22df8971c532"
      },
      "execution_count": 60,
      "outputs": [
        {
          "output_type": "execute_result",
          "data": {
            "text/plain": [
              "(3, 2)"
            ]
          },
          "metadata": {},
          "execution_count": 60
        }
      ]
    },
    {
      "cell_type": "code",
      "source": [
        "#Select a single row\n",
        "\n",
        "a_list[0]  # access first list (first row)"
      ],
      "metadata": {
        "colab": {
          "base_uri": "https://localhost:8080/"
        },
        "id": "WNSweah15g1t",
        "outputId": "0bac5772-22ad-46fe-c5ed-a75ec726c35b"
      },
      "execution_count": 61,
      "outputs": [
        {
          "output_type": "execute_result",
          "data": {
            "text/plain": [
              "[1, 2]"
            ]
          },
          "metadata": {},
          "execution_count": 61
        }
      ]
    },
    {
      "cell_type": "code",
      "source": [
        "a_array[0]  # access first axis (first row)"
      ],
      "metadata": {
        "colab": {
          "base_uri": "https://localhost:8080/"
        },
        "id": "gYm7ov_-5lW5",
        "outputId": "a5d25b4c-773a-47c3-f1df-cf09ceeb19ab"
      },
      "execution_count": 62,
      "outputs": [
        {
          "output_type": "execute_result",
          "data": {
            "text/plain": [
              "array([1, 2])"
            ]
          },
          "metadata": {},
          "execution_count": 62
        }
      ]
    },
    {
      "cell_type": "code",
      "source": [
        "#Select a single element\n",
        "\n",
        "a_list[1][0]  # access first element of the second row (list)"
      ],
      "metadata": {
        "colab": {
          "base_uri": "https://localhost:8080/"
        },
        "id": "qXYH6T5B5nAR",
        "outputId": "f02e42d2-4a31-4cf7-fb58-042676ce855b"
      },
      "execution_count": 63,
      "outputs": [
        {
          "output_type": "execute_result",
          "data": {
            "text/plain": [
              "3"
            ]
          },
          "metadata": {},
          "execution_count": 63
        }
      ]
    },
    {
      "cell_type": "code",
      "source": [
        "a_array[1][0]  # access first element of the second row (numpy array) -- access rows on 1st axis, columns on 2nd axis\n"
      ],
      "metadata": {
        "colab": {
          "base_uri": "https://localhost:8080/"
        },
        "id": "lOP8O__o5vya",
        "outputId": "961b22b3-4c37-4c9e-b0bc-bef900a7042c"
      },
      "execution_count": 64,
      "outputs": [
        {
          "output_type": "execute_result",
          "data": {
            "text/plain": [
              "3"
            ]
          },
          "metadata": {},
          "execution_count": 64
        }
      ]
    },
    {
      "cell_type": "code",
      "source": [
        "#The ndarray also supports another type of indexing, where we have one index per axis separated by commas (tuple)\n",
        "\n",
        "a_array[1, 0]\n"
      ],
      "metadata": {
        "colab": {
          "base_uri": "https://localhost:8080/"
        },
        "id": "Tk_LceK85xzs",
        "outputId": "25c0198c-46c3-41db-967c-301addc594b9"
      },
      "execution_count": 65,
      "outputs": [
        {
          "output_type": "execute_result",
          "data": {
            "text/plain": [
              "3"
            ]
          },
          "metadata": {},
          "execution_count": 65
        }
      ]
    },
    {
      "cell_type": "code",
      "source": [
        "#Subsetting rows and columns\n",
        "\n",
        "b_array = np.arange(0, 5*5).reshape(5, 5)  # (5x5) matrix with integer values from 0 to 24\n",
        "b_array"
      ],
      "metadata": {
        "colab": {
          "base_uri": "https://localhost:8080/"
        },
        "id": "8ELqTUqS56bd",
        "outputId": "6a3d1524-4c1f-4bae-a20e-48ec040f7ef5"
      },
      "execution_count": 66,
      "outputs": [
        {
          "output_type": "execute_result",
          "data": {
            "text/plain": [
              "array([[ 0,  1,  2,  3,  4],\n",
              "       [ 5,  6,  7,  8,  9],\n",
              "       [10, 11, 12, 13, 14],\n",
              "       [15, 16, 17, 18, 19],\n",
              "       [20, 21, 22, 23, 24]])"
            ]
          },
          "metadata": {},
          "execution_count": 66
        }
      ]
    },
    {
      "cell_type": "code",
      "source": [
        "b_array[3:]  # access rows starting at the fourth row\n"
      ],
      "metadata": {
        "colab": {
          "base_uri": "https://localhost:8080/"
        },
        "id": "QQ8T2c8T6O25",
        "outputId": "26f1bad2-8b2e-4bd6-fa3b-c673ac472488"
      },
      "execution_count": 67,
      "outputs": [
        {
          "output_type": "execute_result",
          "data": {
            "text/plain": [
              "array([[15, 16, 17, 18, 19],\n",
              "       [20, 21, 22, 23, 24]])"
            ]
          },
          "metadata": {},
          "execution_count": 67
        }
      ]
    },
    {
      "cell_type": "code",
      "source": [
        "b_array[1:, 1]  # access second row and beyond, access second column\n"
      ],
      "metadata": {
        "colab": {
          "base_uri": "https://localhost:8080/"
        },
        "id": "0yOsVqmT6Phs",
        "outputId": "508623c5-4559-4fbe-ec04-0b591d50b289"
      },
      "execution_count": 68,
      "outputs": [
        {
          "output_type": "execute_result",
          "data": {
            "text/plain": [
              "array([ 6, 11, 16, 21])"
            ]
          },
          "metadata": {},
          "execution_count": 68
        }
      ]
    },
    {
      "cell_type": "code",
      "source": [
        "#slice principle a_list[start:stop:step]\n",
        "\n",
        "b_array"
      ],
      "metadata": {
        "colab": {
          "base_uri": "https://localhost:8080/"
        },
        "id": "EZwrZ7fY6RV2",
        "outputId": "12ee6af4-b73b-48c1-c68e-c800d4e0d914"
      },
      "execution_count": 69,
      "outputs": [
        {
          "output_type": "execute_result",
          "data": {
            "text/plain": [
              "array([[ 0,  1,  2,  3,  4],\n",
              "       [ 5,  6,  7,  8,  9],\n",
              "       [10, 11, 12, 13, 14],\n",
              "       [15, 16, 17, 18, 19],\n",
              "       [20, 21, 22, 23, 24]])"
            ]
          },
          "metadata": {},
          "execution_count": 69
        }
      ]
    },
    {
      "cell_type": "code",
      "source": [
        "b_array[\n",
        "    1:4,  # 1st axis: access rows from the second (index 1) until the fourth (index 3)\n",
        "    :-1  # 2nd axis: access all columns until the last one (excluded)\n",
        "] "
      ],
      "metadata": {
        "colab": {
          "base_uri": "https://localhost:8080/"
        },
        "id": "DUaTSosZ6fQX",
        "outputId": "590539dc-517d-4318-d12a-721d66aa1ca4"
      },
      "execution_count": 70,
      "outputs": [
        {
          "output_type": "execute_result",
          "data": {
            "text/plain": [
              "array([[ 5,  6,  7,  8],\n",
              "       [10, 11, 12, 13],\n",
              "       [15, 16, 17, 18]])"
            ]
          },
          "metadata": {},
          "execution_count": 70
        }
      ]
    },
    {
      "cell_type": "code",
      "source": [
        "b_array[\n",
        "    2:8:2, # 1st axis: access rows starting at 3rd row (index 2), and each 2nd row after that\n",
        "    3: # 2nd axis: access from the 4th column until the last\n",
        "] "
      ],
      "metadata": {
        "colab": {
          "base_uri": "https://localhost:8080/"
        },
        "id": "cF57-jRa6hK-",
        "outputId": "53056a4a-662f-410e-b45a-895410e504f2"
      },
      "execution_count": 71,
      "outputs": [
        {
          "output_type": "execute_result",
          "data": {
            "text/plain": [
              "array([[13, 14],\n",
              "       [23, 24]])"
            ]
          },
          "metadata": {},
          "execution_count": 71
        }
      ]
    },
    {
      "cell_type": "code",
      "source": [
        "#Concatenation\n",
        "\n",
        "# create arrays of shape (2, 3)\n",
        "A = np.array([[1, 2, 3], [4, 5, 6]])\n",
        "B = np.array([[7, 8, 9], [10, 11, 12]])\n",
        "\n",
        "print(\"Matrix A:\\n\", A)\n",
        "print(\"Matrix B:\\n\", B)"
      ],
      "metadata": {
        "colab": {
          "base_uri": "https://localhost:8080/"
        },
        "id": "yHH0hsMK6k20",
        "outputId": "72e1d498-0bfe-4de3-d3ac-8a577e3851f7"
      },
      "execution_count": 72,
      "outputs": [
        {
          "output_type": "stream",
          "name": "stdout",
          "text": [
            "Matrix A:\n",
            " [[1 2 3]\n",
            " [4 5 6]]\n",
            "Matrix B:\n",
            " [[ 7  8  9]\n",
            " [10 11 12]]\n"
          ]
        }
      ]
    },
    {
      "cell_type": "code",
      "source": [
        "np.concatenate((A, B), axis = 0)  # concatenate along axis 0 (rows)\n"
      ],
      "metadata": {
        "colab": {
          "base_uri": "https://localhost:8080/"
        },
        "id": "WF1zm18P6rqg",
        "outputId": "7963e5c4-cb64-4a8c-b47d-f25694ce16cb"
      },
      "execution_count": 73,
      "outputs": [
        {
          "output_type": "execute_result",
          "data": {
            "text/plain": [
              "array([[ 1,  2,  3],\n",
              "       [ 4,  5,  6],\n",
              "       [ 7,  8,  9],\n",
              "       [10, 11, 12]])"
            ]
          },
          "metadata": {},
          "execution_count": 73
        }
      ]
    },
    {
      "cell_type": "code",
      "source": [
        "np.concatenate((A, B), axis = 1)  # concatenate along axis 1 (columns)\n"
      ],
      "metadata": {
        "colab": {
          "base_uri": "https://localhost:8080/"
        },
        "id": "RaDRLy7B611q",
        "outputId": "d0cc6ee1-64ca-46b8-a90f-26a391f1dfed"
      },
      "execution_count": 74,
      "outputs": [
        {
          "output_type": "execute_result",
          "data": {
            "text/plain": [
              "array([[ 1,  2,  3,  7,  8,  9],\n",
              "       [ 4,  5,  6, 10, 11, 12]])"
            ]
          },
          "metadata": {},
          "execution_count": 74
        }
      ]
    },
    {
      "cell_type": "code",
      "source": [
        "# Iterating through arrays\n",
        "\n",
        "\n",
        "a = np.array([[.0, .2, .4], [.6, .8, 1.]])\n",
        "i = 1\n",
        "for row in a:\n",
        "    print(f\"row {i}: {row}\")\n",
        "    i+=1"
      ],
      "metadata": {
        "colab": {
          "base_uri": "https://localhost:8080/"
        },
        "id": "C6Nbvw0s63jn",
        "outputId": "7da04006-a606-4c15-c007-47e66e54b9cf"
      },
      "execution_count": 75,
      "outputs": [
        {
          "output_type": "stream",
          "name": "stdout",
          "text": [
            "row 1: [0.  0.2 0.4]\n",
            "row 2: [0.6 0.8 1. ]\n"
          ]
        }
      ]
    },
    {
      "cell_type": "code",
      "source": [
        "# Boolean indexing\n",
        "\n",
        "\n",
        "a = np.array([[-1, -.5, 0.2],\n",
        "              [.5, 1, 1.5]])\n",
        "a.shape"
      ],
      "metadata": {
        "colab": {
          "base_uri": "https://localhost:8080/"
        },
        "id": "wEVPeUHd69hq",
        "outputId": "66397dfd-8553-4a7b-a634-b57421b7a06b"
      },
      "execution_count": 76,
      "outputs": [
        {
          "output_type": "execute_result",
          "data": {
            "text/plain": [
              "(2, 3)"
            ]
          },
          "metadata": {},
          "execution_count": 76
        }
      ]
    },
    {
      "cell_type": "code",
      "source": [
        "#filter (keep only) the entries where the condition a[ij] > 0 is met\n",
        "\n",
        "a_positives = a[a > 0]\n",
        "a_positives"
      ],
      "metadata": {
        "colab": {
          "base_uri": "https://localhost:8080/"
        },
        "id": "fC5WslWy_w5U",
        "outputId": "0b85e08b-7ba2-44d0-8836-6e66f013b54e"
      },
      "execution_count": 77,
      "outputs": [
        {
          "output_type": "execute_result",
          "data": {
            "text/plain": [
              "array([0.2, 0.5, 1. , 1.5])"
            ]
          },
          "metadata": {},
          "execution_count": 77
        }
      ]
    },
    {
      "cell_type": "code",
      "source": [
        "a > 0 # this is the boolean mask we used above\n"
      ],
      "metadata": {
        "colab": {
          "base_uri": "https://localhost:8080/"
        },
        "id": "wHXzwQklAAmR",
        "outputId": "e78ba583-e08d-4329-faa6-4317d6b85bfb"
      },
      "execution_count": 78,
      "outputs": [
        {
          "output_type": "execute_result",
          "data": {
            "text/plain": [
              "array([[False, False,  True],\n",
              "       [ True,  True,  True]])"
            ]
          },
          "metadata": {},
          "execution_count": 78
        }
      ]
    },
    {
      "cell_type": "code",
      "source": [
        "a_positives.shape\n"
      ],
      "metadata": {
        "colab": {
          "base_uri": "https://localhost:8080/"
        },
        "id": "387ituFvACuB",
        "outputId": "63f787ec-5ff0-403a-cdd3-ab9e889b6f6d"
      },
      "execution_count": 79,
      "outputs": [
        {
          "output_type": "execute_result",
          "data": {
            "text/plain": [
              "(4,)"
            ]
          },
          "metadata": {},
          "execution_count": 79
        }
      ]
    },
    {
      "cell_type": "code",
      "source": [
        "#the expression a>0 is itself an array, more specifically, a boolean array or boolean mask,\n",
        "\n",
        "a_bool = a > 0\n",
        "a_bool"
      ],
      "metadata": {
        "colab": {
          "base_uri": "https://localhost:8080/"
        },
        "id": "4XOA67CXAE9R",
        "outputId": "e3bce193-3e24-4a51-dcca-dcda4255832c"
      },
      "execution_count": 80,
      "outputs": [
        {
          "output_type": "execute_result",
          "data": {
            "text/plain": [
              "array([[False, False,  True],\n",
              "       [ True,  True,  True]])"
            ]
          },
          "metadata": {},
          "execution_count": 80
        }
      ]
    },
    {
      "cell_type": "code",
      "source": [
        "#Using .dtype we can confirm the type of this array\n",
        "\n",
        "a_bool.dtype\n"
      ],
      "metadata": {
        "colab": {
          "base_uri": "https://localhost:8080/"
        },
        "id": "g5U-GCwyAUaf",
        "outputId": "6bada85a-35bc-4a67-e274-56ea84dd28bb"
      },
      "execution_count": 81,
      "outputs": [
        {
          "output_type": "execute_result",
          "data": {
            "text/plain": [
              "dtype('bool')"
            ]
          },
          "metadata": {},
          "execution_count": 81
        }
      ]
    },
    {
      "cell_type": "code",
      "source": [
        "#you can  use the mask above on another array\n",
        "\n",
        "b = np.array([[0, 1, 2],\n",
        "              [3, 4, 5]])\n",
        "b[a_bool]"
      ],
      "metadata": {
        "colab": {
          "base_uri": "https://localhost:8080/"
        },
        "id": "Ic_xDefUAY-v",
        "outputId": "dcc602c1-32dd-47a4-a9fd-ab852c32c445"
      },
      "execution_count": 82,
      "outputs": [
        {
          "output_type": "execute_result",
          "data": {
            "text/plain": [
              "array([2, 3, 4, 5])"
            ]
          },
          "metadata": {},
          "execution_count": 82
        }
      ]
    },
    {
      "cell_type": "code",
      "source": [
        "#The ~ operator\n",
        "\n",
        "d = np.array([[-1, -2, -3, -4], \n",
        "              [1, 2, 3, 4]])\n",
        "d"
      ],
      "metadata": {
        "colab": {
          "base_uri": "https://localhost:8080/"
        },
        "id": "hoLlNVntAh9I",
        "outputId": "4defcd17-e022-4d6e-9e68-b5866907fa8a"
      },
      "execution_count": 83,
      "outputs": [
        {
          "output_type": "execute_result",
          "data": {
            "text/plain": [
              "array([[-1, -2, -3, -4],\n",
              "       [ 1,  2,  3,  4]])"
            ]
          },
          "metadata": {},
          "execution_count": 83
        }
      ]
    },
    {
      "cell_type": "code",
      "source": [
        "#mask\n",
        "\n",
        "d > 0"
      ],
      "metadata": {
        "colab": {
          "base_uri": "https://localhost:8080/"
        },
        "id": "QZXdbgi5HzMZ",
        "outputId": "00b82c54-f1fb-4e4e-cf3e-f0648b6e6e90"
      },
      "execution_count": 84,
      "outputs": [
        {
          "output_type": "execute_result",
          "data": {
            "text/plain": [
              "array([[False, False, False, False],\n",
              "       [ True,  True,  True,  True]])"
            ]
          },
          "metadata": {},
          "execution_count": 84
        }
      ]
    },
    {
      "cell_type": "code",
      "source": [
        "#create a reverse mask where d > 0 is not true, we can use the negation operator, ~\n",
        "\n",
        "~(d > 0)\n"
      ],
      "metadata": {
        "colab": {
          "base_uri": "https://localhost:8080/"
        },
        "id": "5i9mrNrTH2p8",
        "outputId": "f5ce143d-2370-4742-e18e-0e20d2900417"
      },
      "execution_count": 85,
      "outputs": [
        {
          "output_type": "execute_result",
          "data": {
            "text/plain": [
              "array([[ True,  True,  True,  True],\n",
              "       [False, False, False, False]])"
            ]
          },
          "metadata": {},
          "execution_count": 85
        }
      ]
    },
    {
      "cell_type": "code",
      "source": [
        "d <= 0\n"
      ],
      "metadata": {
        "colab": {
          "base_uri": "https://localhost:8080/"
        },
        "id": "YRRlTGlSIAfF",
        "outputId": "6cae27f9-64b4-477b-f2db-14b81da3c296"
      },
      "execution_count": 86,
      "outputs": [
        {
          "output_type": "execute_result",
          "data": {
            "text/plain": [
              "array([[ True,  True,  True,  True],\n",
              "       [False, False, False, False]])"
            ]
          },
          "metadata": {},
          "execution_count": 86
        }
      ]
    },
    {
      "cell_type": "code",
      "source": [
        "print(\"d[d>0] = \", d[d>0])\n"
      ],
      "metadata": {
        "colab": {
          "base_uri": "https://localhost:8080/"
        },
        "id": "FD726J22ICSa",
        "outputId": "aac369fa-f917-44a0-d49a-80f9f3513193"
      },
      "execution_count": 87,
      "outputs": [
        {
          "output_type": "stream",
          "name": "stdout",
          "text": [
            "d[d>0] =  [1 2 3 4]\n"
          ]
        }
      ]
    },
    {
      "cell_type": "code",
      "source": [
        "print(\"d[~(d>0)] = \", d[~(d>0)])\n",
        "\n"
      ],
      "metadata": {
        "colab": {
          "base_uri": "https://localhost:8080/"
        },
        "id": "OZpLGNiTIEkd",
        "outputId": "e2ec0f1f-d5e5-417b-ec66-8f5ef89bb514"
      },
      "execution_count": 88,
      "outputs": [
        {
          "output_type": "stream",
          "name": "stdout",
          "text": [
            "d[~(d>0)] =  [-1 -2 -3 -4]\n"
          ]
        }
      ]
    },
    {
      "cell_type": "code",
      "source": [
        "print(\"d[d<=0] = \", d[d<=0])\n"
      ],
      "metadata": {
        "colab": {
          "base_uri": "https://localhost:8080/"
        },
        "id": "IIbwzQi7IGPS",
        "outputId": "77dc3506-c5dd-4a99-bc73-81ee857c6263"
      },
      "execution_count": 89,
      "outputs": [
        {
          "output_type": "stream",
          "name": "stdout",
          "text": [
            "d[d<=0] =  [-1 -2 -3 -4]\n"
          ]
        }
      ]
    },
    {
      "cell_type": "code",
      "source": [
        "#Copying numpy arrays .copy()\n",
        "\n",
        "a = np.array([[1], [2]])\n",
        "b = a.copy()  # GOOD PRACTICE"
      ],
      "metadata": {
        "id": "1klIvMbEIINf"
      },
      "execution_count": 90,
      "outputs": []
    },
    {
      "cell_type": "code",
      "source": [
        "a = np.array([[1], [2]])\n",
        "b = a  # BAD PRACTICE"
      ],
      "metadata": {
        "id": "IeiYzlozIShW"
      },
      "execution_count": 91,
      "outputs": []
    },
    {
      "cell_type": "code",
      "source": [
        "# multiply two matrices using np.matmul()\n",
        "\n",
        "# 2D array to represent A\n",
        "A = np.array([[-1, 2],\n",
        "              [4, 6]])\n",
        "# 2D array to represent B\n",
        "B = np.array([[0, 3, 6],\n",
        "              [-2, 0, -1]])\n",
        "\n",
        "\n",
        "#both are 2D arrays\n",
        "\n",
        "# numpy.matmul() to multiply A by B\n",
        "C = np.matmul(A, B)\n",
        "C"
      ],
      "metadata": {
        "colab": {
          "base_uri": "https://localhost:8080/"
        },
        "id": "tCmbOI-h8LIG",
        "outputId": "7dd6b2ec-547f-4973-9bb6-322db2976772"
      },
      "execution_count": 92,
      "outputs": [
        {
          "output_type": "execute_result",
          "data": {
            "text/plain": [
              "array([[ -4,  -3,  -8],\n",
              "       [-12,  12,  18]])"
            ]
          },
          "metadata": {},
          "execution_count": 92
        }
      ]
    },
    {
      "cell_type": "code",
      "source": [
        "#using 2-D array\n",
        "# multiplying (2x1) column vector by (1x2) row vector using 2D arrays\n",
        "np.matmul(np.array([[0],\n",
        "                    [1]]),  # 2D array\n",
        "          np.array([[-1, 2]]))  # 2D array\n",
        "\n"
      ],
      "metadata": {
        "colab": {
          "base_uri": "https://localhost:8080/"
        },
        "id": "NET1lTBy8XRX",
        "outputId": "1eae9342-5f78-429b-ec4f-78f8d4722819"
      },
      "execution_count": 93,
      "outputs": [
        {
          "output_type": "execute_result",
          "data": {
            "text/plain": [
              "array([[ 0,  0],\n",
              "       [-1,  2]])"
            ]
          },
          "metadata": {},
          "execution_count": 93
        }
      ]
    },
    {
      "cell_type": "code",
      "source": [
        "\n",
        "#using 1-D array\n",
        "\n",
        "# multiplying (2x1) column vector by (1x2) row vector using 2D array and 1D array, respectively\n",
        "np.matmul(np.array([0, 1]),  # 1D array\n",
        "          np.array([-1, 2]))  # 1D array"
      ],
      "metadata": {
        "colab": {
          "base_uri": "https://localhost:8080/"
        },
        "id": "cAIldrN09KJE",
        "outputId": "059b4b0e-0d97-49c8-af65-317234133805"
      },
      "execution_count": 94,
      "outputs": [
        {
          "output_type": "execute_result",
          "data": {
            "text/plain": [
              "2"
            ]
          },
          "metadata": {},
          "execution_count": 94
        }
      ]
    },
    {
      "cell_type": "code",
      "source": [
        "#using 2-D and 1-D array\n",
        "\n",
        "x = np.array([[0],[1]])  # 2D array, matrix 2x1 (column vector)\n",
        "y = np.array([-1, 2])  # 1D array, row vector 1x2\n",
        "try:\n",
        "    np.matmul(x, y)\n",
        "except Exception as e: \n",
        "    print(\"ValueError:\", e)"
      ],
      "metadata": {
        "colab": {
          "base_uri": "https://localhost:8080/"
        },
        "id": "WJVkjHVd9Z9Z",
        "outputId": "2e78eeb8-3bee-4dc4-9f3e-702848572059"
      },
      "execution_count": 95,
      "outputs": [
        {
          "output_type": "stream",
          "name": "stdout",
          "text": [
            "ValueError: matmul: Input operand 1 has a mismatch in its core dimension 0, with gufunc signature (n?,k),(k,m?)->(n?,m?) (size 2 is different from 1)\n"
          ]
        }
      ]
    },
    {
      "cell_type": "code",
      "source": [
        "print(\"x.shape:\", x.shape)\n",
        "print(\"y.shape:\", y.shape)"
      ],
      "metadata": {
        "colab": {
          "base_uri": "https://localhost:8080/"
        },
        "id": "i-Q51cky9eXh",
        "outputId": "b1ae8521-f11b-435a-d93e-0b996e381c95"
      },
      "execution_count": 96,
      "outputs": [
        {
          "output_type": "stream",
          "name": "stdout",
          "text": [
            "x.shape: (2, 1)\n",
            "y.shape: (2,)\n"
          ]
        }
      ]
    },
    {
      "cell_type": "code",
      "source": [
        "#multiplying in the reverse order (y as first argument and x as second) will work. \n",
        "#In this case, our first argument has shape (2,), which will be converted to (1,2)\n",
        "\n",
        "np.matmul(y, x)"
      ],
      "metadata": {
        "colab": {
          "base_uri": "https://localhost:8080/"
        },
        "id": "X1XXXQ2q-SkN",
        "outputId": "50a1be19-88c3-4af6-a5e1-f341724c2cf0"
      },
      "execution_count": 97,
      "outputs": [
        {
          "output_type": "execute_result",
          "data": {
            "text/plain": [
              "array([2])"
            ]
          },
          "metadata": {},
          "execution_count": 97
        }
      ]
    },
    {
      "cell_type": "code",
      "source": [
        "#The * operator is not to be used for matrix multiplication!!"
      ],
      "metadata": {
        "id": "RS4j7dTb-kvS"
      },
      "execution_count": 98,
      "outputs": []
    },
    {
      "cell_type": "code",
      "source": [
        "#Using numpy.matmul() versus numpy.dot()\n",
        "\n",
        "# 2D array to represent A\n",
        "A = np.array([[-1, 2],\n",
        "              [4, 6]])\n",
        "# 2D array to represent B\n",
        "B = np.array([[0, 3],\n",
        "              [-2, 0]])"
      ],
      "metadata": {
        "id": "6Jb1oaxf_ILh"
      },
      "execution_count": 99,
      "outputs": []
    },
    {
      "cell_type": "code",
      "source": [
        "#it works, however NumPy advises to use numpy.matmul() in the case of 2-D arrays\n",
        "np.dot(A, B)"
      ],
      "metadata": {
        "colab": {
          "base_uri": "https://localhost:8080/"
        },
        "id": "l4SxFLll_RDE",
        "outputId": "0e2ab1e3-0ade-4bbc-91f7-bb9036795367"
      },
      "execution_count": 100,
      "outputs": [
        {
          "output_type": "execute_result",
          "data": {
            "text/plain": [
              "array([[ -4,  -3],\n",
              "       [-12,  12]])"
            ]
          },
          "metadata": {},
          "execution_count": 100
        }
      ]
    },
    {
      "cell_type": "code",
      "source": [
        "#determine the inverse of a matrix using  numpy.linalg.inv()\n",
        "\n",
        "# a non-invertible square matrix\n",
        "A = np.array([[1, 2],\n",
        "              [2, 4]])\n",
        "A\n",
        "\n",
        "# try to determine the inverse using NumPy\n",
        "try:\n",
        "    np.linalg.inv(A)\n",
        "except Exception as e:  # NumPy is smart, so it throws an error because A is not invertible\n",
        "    print(\"LinAlgError:\", e)"
      ],
      "metadata": {
        "colab": {
          "base_uri": "https://localhost:8080/"
        },
        "id": "vW7FQQIj_UTe",
        "outputId": "6e30e678-4c73-468b-c89c-042e908ba357"
      },
      "execution_count": 101,
      "outputs": [
        {
          "output_type": "stream",
          "name": "stdout",
          "text": [
            "LinAlgError: Singular matrix\n"
          ]
        }
      ]
    },
    {
      "cell_type": "code",
      "source": [
        "# an invertible matrix\n",
        "B = np.array([[0, 2],\n",
        "              [-4, 1]])\n",
        "B_inv = np.linalg.inv(B)\n",
        "B_inv"
      ],
      "metadata": {
        "colab": {
          "base_uri": "https://localhost:8080/"
        },
        "id": "fRkMZwcMMF_Z",
        "outputId": "ee162465-4f3c-4d55-dd5a-ca6b28a470df"
      },
      "execution_count": 102,
      "outputs": [
        {
          "output_type": "execute_result",
          "data": {
            "text/plain": [
              "array([[ 0.125, -0.25 ],\n",
              "       [ 0.5  ,  0.   ]])"
            ]
          },
          "metadata": {},
          "execution_count": 102
        }
      ]
    },
    {
      "cell_type": "code",
      "source": [
        "#let's check that multiplying B by B_inv actually yields the identity\n",
        "\n",
        "\n",
        "# multiply B by B_inv\n",
        "print(\"B multiplied by B_inv:\\n\", np.matmul(B, B_inv))\n",
        "\n",
        "# multiply B_inv by B (because we're paranoid and insane, and doubt the Mathematicians)\n",
        "print(\"B_inv multiplied by B:\\n\", np.matmul(B_inv, B))"
      ],
      "metadata": {
        "colab": {
          "base_uri": "https://localhost:8080/"
        },
        "id": "sdEp4TgLMVrX",
        "outputId": "0b63a905-b5c5-4a39-c176-73ceaa825a73"
      },
      "execution_count": 103,
      "outputs": [
        {
          "output_type": "stream",
          "name": "stdout",
          "text": [
            "B multiplied by B_inv:\n",
            " [[1. 0.]\n",
            " [0. 1.]]\n",
            "B_inv multiplied by B:\n",
            " [[1. 0.]\n",
            " [0. 1.]]\n"
          ]
        }
      ]
    },
    {
      "cell_type": "code",
      "source": [
        "#Additional NumPy methods\n",
        "\n",
        "#ndarray.max() and ndarray.min()\n",
        "\n",
        "# a 3x3 square matrix\n",
        "A = np.array([[1, -1, 0],\n",
        "              [2, -2, 3],\n",
        "              [6, 0, -1]])\n",
        "A"
      ],
      "metadata": {
        "colab": {
          "base_uri": "https://localhost:8080/"
        },
        "id": "Pj2UFzQpMre6",
        "outputId": "8b27ff00-3831-4d08-c6c5-d2c8633d016d"
      },
      "execution_count": 104,
      "outputs": [
        {
          "output_type": "execute_result",
          "data": {
            "text/plain": [
              "array([[ 1, -1,  0],\n",
              "       [ 2, -2,  3],\n",
              "       [ 6,  0, -1]])"
            ]
          },
          "metadata": {},
          "execution_count": 104
        }
      ]
    },
    {
      "cell_type": "code",
      "source": [
        "# using axis=1 we get the maximum value per row of A\n",
        "A.max(axis=1)"
      ],
      "metadata": {
        "colab": {
          "base_uri": "https://localhost:8080/"
        },
        "id": "vguAPAPvNQV8",
        "outputId": "07f86a09-3f0d-4ed1-84fe-cb017ddba342"
      },
      "execution_count": 105,
      "outputs": [
        {
          "output_type": "execute_result",
          "data": {
            "text/plain": [
              "array([1, 3, 6])"
            ]
          },
          "metadata": {},
          "execution_count": 105
        }
      ]
    },
    {
      "cell_type": "code",
      "source": [
        "# using axis=0 we get the maximum value per column of A\n",
        "A.max(axis=0)"
      ],
      "metadata": {
        "colab": {
          "base_uri": "https://localhost:8080/"
        },
        "id": "xPTM9F8YNSXm",
        "outputId": "1627326c-67fe-4582-88ee-5ab6780db3cb"
      },
      "execution_count": 106,
      "outputs": [
        {
          "output_type": "execute_result",
          "data": {
            "text/plain": [
              "array([6, 0, 3])"
            ]
          },
          "metadata": {},
          "execution_count": 106
        }
      ]
    },
    {
      "cell_type": "code",
      "source": [
        "# if we don't specify the axis, it will use the default value axis=None (for v1.20 of NumPy)\n",
        "# meaning it will return the maximum value in the entire 2D array\n",
        "A.max()"
      ],
      "metadata": {
        "colab": {
          "base_uri": "https://localhost:8080/"
        },
        "id": "Ot1p9k5SNU4f",
        "outputId": "1fc0968a-8c5a-4a58-9087-4be5998bff41"
      },
      "execution_count": 107,
      "outputs": [
        {
          "output_type": "execute_result",
          "data": {
            "text/plain": [
              "6"
            ]
          },
          "metadata": {},
          "execution_count": 107
        }
      ]
    },
    {
      "cell_type": "code",
      "source": [
        "# using axis=1 we get the minimum value per row of A\n",
        "A.min(axis=1)"
      ],
      "metadata": {
        "colab": {
          "base_uri": "https://localhost:8080/"
        },
        "id": "F6DYEiT4Nw0Y",
        "outputId": "4196a3ff-dfe8-48d8-b23c-899322b23508"
      },
      "execution_count": 108,
      "outputs": [
        {
          "output_type": "execute_result",
          "data": {
            "text/plain": [
              "array([-1, -2, -1])"
            ]
          },
          "metadata": {},
          "execution_count": 108
        }
      ]
    },
    {
      "cell_type": "code",
      "source": [
        "# using axis=0 we get the minimum value per column of A\n",
        "A.min(axis=0)"
      ],
      "metadata": {
        "colab": {
          "base_uri": "https://localhost:8080/"
        },
        "id": "QXgriUFdN3dP",
        "outputId": "5192efc4-ac37-4553-cefe-909f7d659245"
      },
      "execution_count": 109,
      "outputs": [
        {
          "output_type": "execute_result",
          "data": {
            "text/plain": [
              "array([ 1, -2, -1])"
            ]
          },
          "metadata": {},
          "execution_count": 109
        }
      ]
    },
    {
      "cell_type": "code",
      "source": [
        "# if we don't specify the axis, it will use the default value axis=None (for v1.20 of NumPy)\n",
        "# meaning it will return the minimum value in the entire 2D array\n",
        "A.min()"
      ],
      "metadata": {
        "colab": {
          "base_uri": "https://localhost:8080/"
        },
        "id": "CK9izklGN5tT",
        "outputId": "96891f54-f89b-4887-e182-ac18a3ca932e"
      },
      "execution_count": 110,
      "outputs": [
        {
          "output_type": "execute_result",
          "data": {
            "text/plain": [
              "-2"
            ]
          },
          "metadata": {},
          "execution_count": 110
        }
      ]
    },
    {
      "cell_type": "code",
      "source": [
        "#Let's see what would happen with a 2D array A that has two maximum values (number 3) on the last column:\n",
        "\n",
        "# 2D array with 2 equal maximum values in 3rd colum\n",
        "A = np.array([[1, -1, 3],\n",
        "              [2, 2, 3],\n",
        "              [6, 0, -1]])\n",
        "\n",
        "# using axis=0 we get the maximum value per column of A\n",
        "A.max(axis=0)"
      ],
      "metadata": {
        "colab": {
          "base_uri": "https://localhost:8080/"
        },
        "id": "i9EQxQXNN85F",
        "outputId": "6d36272c-31f6-45b5-8038-c09b2331f6e9"
      },
      "execution_count": 111,
      "outputs": [
        {
          "output_type": "execute_result",
          "data": {
            "text/plain": [
              "array([6, 2, 3])"
            ]
          },
          "metadata": {},
          "execution_count": 111
        }
      ]
    },
    {
      "cell_type": "code",
      "source": [
        "#NumPy chooses one of the repeated values."
      ],
      "metadata": {
        "id": "jdUDMqmDOdrX"
      },
      "execution_count": 112,
      "outputs": []
    },
    {
      "cell_type": "code",
      "source": [
        "#ndarray.sort() and numpy.sort()\n",
        "\n",
        "# ndarray.sort() allows us to sort an array in-place. We also need to choose the axis along which to sort\n",
        "\n",
        "A"
      ],
      "metadata": {
        "colab": {
          "base_uri": "https://localhost:8080/"
        },
        "id": "xubFkmN7Ofph",
        "outputId": "54e1dad0-e7fd-480a-adab-f3c16c5e332c"
      },
      "execution_count": 113,
      "outputs": [
        {
          "output_type": "execute_result",
          "data": {
            "text/plain": [
              "array([[ 1, -1,  3],\n",
              "       [ 2,  2,  3],\n",
              "       [ 6,  0, -1]])"
            ]
          },
          "metadata": {},
          "execution_count": 113
        }
      ]
    },
    {
      "cell_type": "code",
      "source": [
        "A.sort(axis=1)  # this will change the array in-place!!\n",
        "A"
      ],
      "metadata": {
        "colab": {
          "base_uri": "https://localhost:8080/"
        },
        "id": "UN66EyAcOxpG",
        "outputId": "56712556-184c-4fff-ff1e-6ed2d4076d18"
      },
      "execution_count": 114,
      "outputs": [
        {
          "output_type": "execute_result",
          "data": {
            "text/plain": [
              "array([[-1,  1,  3],\n",
              "       [ 2,  2,  3],\n",
              "       [-1,  0,  6]])"
            ]
          },
          "metadata": {},
          "execution_count": 114
        }
      ]
    },
    {
      "cell_type": "code",
      "source": [
        "#Each row was sorted in ascending order from the lowest to the highest value."
      ],
      "metadata": {
        "id": "rQG2zP_DOzv1"
      },
      "execution_count": 115,
      "outputs": []
    },
    {
      "cell_type": "code",
      "source": [
        "#If you don't want your array to be changed in-place, you can use numpy.sort() instead:\n",
        "\n",
        "A = np.array([[1, -1, 3],\n",
        "              [2, 2, 3],\n",
        "              [6, 0, -1]])\n",
        "np.sort(A) # sort along the last axis (default is axis=-1)"
      ],
      "metadata": {
        "colab": {
          "base_uri": "https://localhost:8080/"
        },
        "id": "bzR_XycLO59k",
        "outputId": "8206f687-8a94-419b-b30e-88db36e61593"
      },
      "execution_count": 116,
      "outputs": [
        {
          "output_type": "execute_result",
          "data": {
            "text/plain": [
              "array([[-1,  1,  3],\n",
              "       [ 2,  2,  3],\n",
              "       [-1,  0,  6]])"
            ]
          },
          "metadata": {},
          "execution_count": 116
        }
      ]
    },
    {
      "cell_type": "code",
      "source": [
        "np.sort(A, axis=None)  # sort the flattened array (array reshaped to 1 dimension)"
      ],
      "metadata": {
        "colab": {
          "base_uri": "https://localhost:8080/"
        },
        "id": "UZqRCct0PH6W",
        "outputId": "3447ffd4-6904-42bd-bc2d-ebe864e3b334"
      },
      "execution_count": 117,
      "outputs": [
        {
          "output_type": "execute_result",
          "data": {
            "text/plain": [
              "array([-1, -1,  0,  1,  2,  2,  3,  3,  6])"
            ]
          },
          "metadata": {},
          "execution_count": 117
        }
      ]
    },
    {
      "cell_type": "code",
      "source": [
        "np.sort(A, axis=0)  # sort along the first axis"
      ],
      "metadata": {
        "colab": {
          "base_uri": "https://localhost:8080/"
        },
        "id": "cd3ZhJ33PMa4",
        "outputId": "75f524e2-d5e9-4ae9-aaba-e0bab9e60127"
      },
      "execution_count": 118,
      "outputs": [
        {
          "output_type": "execute_result",
          "data": {
            "text/plain": [
              "array([[ 1, -1, -1],\n",
              "       [ 2,  0,  3],\n",
              "       [ 6,  2,  3]])"
            ]
          },
          "metadata": {},
          "execution_count": 118
        }
      ]
    },
    {
      "cell_type": "code",
      "source": [
        "#If you wanted to sort in reverse order\n",
        "\n",
        "\n",
        "-np.sort(-A, axis=0)  # sort along the first axis"
      ],
      "metadata": {
        "colab": {
          "base_uri": "https://localhost:8080/"
        },
        "id": "xNmI0HpqPQYj",
        "outputId": "445b124d-2da9-406f-8ba1-f96b9e53ad72"
      },
      "execution_count": 119,
      "outputs": [
        {
          "output_type": "execute_result",
          "data": {
            "text/plain": [
              "array([[ 6,  2,  3],\n",
              "       [ 2,  0,  3],\n",
              "       [ 1, -1, -1]])"
            ]
          },
          "metadata": {},
          "execution_count": 119
        }
      ]
    },
    {
      "cell_type": "code",
      "source": [
        "#ndarray.sum()\n",
        "\n",
        "#to find the sum of a matrix columns and/or rows\n",
        "\n",
        "A"
      ],
      "metadata": {
        "colab": {
          "base_uri": "https://localhost:8080/"
        },
        "id": "GtFbkJqePgNI",
        "outputId": "118b677a-9eff-4598-89d1-8920e170184b"
      },
      "execution_count": 120,
      "outputs": [
        {
          "output_type": "execute_result",
          "data": {
            "text/plain": [
              "array([[ 1, -1,  3],\n",
              "       [ 2,  2,  3],\n",
              "       [ 6,  0, -1]])"
            ]
          },
          "metadata": {},
          "execution_count": 120
        }
      ]
    },
    {
      "cell_type": "code",
      "source": [
        "# The default, axis=None, will sum all of the elements of the input array\n",
        "print(A.sum())"
      ],
      "metadata": {
        "colab": {
          "base_uri": "https://localhost:8080/"
        },
        "id": "B9Jkp5s4PxmY",
        "outputId": "2651de9b-9caf-4aa5-80d2-15c3c75d4369"
      },
      "execution_count": 121,
      "outputs": [
        {
          "output_type": "stream",
          "name": "stdout",
          "text": [
            "15\n"
          ]
        }
      ]
    },
    {
      "cell_type": "code",
      "source": [
        "B = np.array([[[1], [2]], [[3], [4]]])\n",
        "B.ndim"
      ],
      "metadata": {
        "colab": {
          "base_uri": "https://localhost:8080/"
        },
        "id": "QDA0i9xTP06b",
        "outputId": "30506871-99cf-4431-a9f3-f809ec2b08cf"
      },
      "execution_count": 122,
      "outputs": [
        {
          "output_type": "execute_result",
          "data": {
            "text/plain": [
              "3"
            ]
          },
          "metadata": {},
          "execution_count": 122
        }
      ]
    },
    {
      "cell_type": "code",
      "source": [
        "B.sum()"
      ],
      "metadata": {
        "colab": {
          "base_uri": "https://localhost:8080/"
        },
        "id": "fWIgFssQP3pF",
        "outputId": "220437f6-5f38-4b35-f1b6-51c3f9747322"
      },
      "execution_count": 123,
      "outputs": [
        {
          "output_type": "execute_result",
          "data": {
            "text/plain": [
              "10"
            ]
          },
          "metadata": {},
          "execution_count": 123
        }
      ]
    },
    {
      "cell_type": "code",
      "source": [
        "A.sum(axis=0)  # Sum elements along axis=0 (sum elements in each column)"
      ],
      "metadata": {
        "colab": {
          "base_uri": "https://localhost:8080/"
        },
        "id": "ts708j88P5ep",
        "outputId": "20ee4a0b-065e-4445-fb1a-70e973566b3c"
      },
      "execution_count": 124,
      "outputs": [
        {
          "output_type": "execute_result",
          "data": {
            "text/plain": [
              "array([9, 1, 5])"
            ]
          },
          "metadata": {},
          "execution_count": 124
        }
      ]
    },
    {
      "cell_type": "code",
      "source": [
        "A.sum(axis=1)  # Sum elements along axis=1 (sum elements in each row)"
      ],
      "metadata": {
        "colab": {
          "base_uri": "https://localhost:8080/"
        },
        "id": "wQQota1XP7np",
        "outputId": "9b620178-d920-4932-e2df-38694564853c"
      },
      "execution_count": 125,
      "outputs": [
        {
          "output_type": "execute_result",
          "data": {
            "text/plain": [
              "array([3, 7, 5])"
            ]
          },
          "metadata": {},
          "execution_count": 125
        }
      ]
    },
    {
      "cell_type": "code",
      "source": [
        "mat_1 = np.array([[44, 68], [-37, 14], [85, -48], [92, -46], [-42, 63], [-42, 63], [-35, 75]])\n",
        "mat_2 = np.array([[22, -40, 95, 62], [10, -42, 98, 19]])\n",
        "\n",
        "\n",
        "C = np.matmul(mat_1, mat_2)\n",
        "C"
      ],
      "metadata": {
        "colab": {
          "base_uri": "https://localhost:8080/"
        },
        "id": "_AZNtODrP-PQ",
        "outputId": "4724ff3c-b083-4388-ce34-8ab714a9d135"
      },
      "execution_count": 128,
      "outputs": [
        {
          "output_type": "execute_result",
          "data": {
            "text/plain": [
              "array([[ 1648, -4616, 10844,  4020],\n",
              "       [ -674,   892, -2143, -2028],\n",
              "       [ 1390, -1384,  3371,  4358],\n",
              "       [ 1564, -1748,  4232,  4830],\n",
              "       [ -294,  -966,  2184, -1407],\n",
              "       [ -294,  -966,  2184, -1407],\n",
              "       [  -20, -1750,  4025,  -745]])"
            ]
          },
          "metadata": {},
          "execution_count": 128
        }
      ]
    },
    {
      "cell_type": "markdown",
      "source": [
        "# Decrypt Message"
      ],
      "metadata": {
        "id": "qApBtyxoJMhz"
      }
    },
    {
      "cell_type": "code",
      "source": [
        "allowed_characters = \"ABCDEFGHIJKLMNOPQRSTUVWXYZ \"\n",
        "\n",
        "def clean_message(text_):\n",
        "    \n",
        "    ## convert to uppercase\n",
        "    text_upper = text_.upper()\n",
        "    \n",
        "    ## remove characters not in allowed_characters using list comprehension\n",
        "    text_list_ = [char for char in text_upper if char in allowed_characters]\n",
        "    \n",
        "    ## join the characters back together into one string\n",
        "    text_ = ''.join(text_list_)\n",
        "    \n",
        "    ## remove extra whitespaces (hint: use .join() and .split())\n",
        "    text_ = \" \".join(text_.split())\n",
        "    \n",
        "    ## we'll add one extra whitespace at the end if the number list length is odd\n",
        "    ## we need this to be able to build an Nx2 matrix on the next steps\n",
        "    if len(text_) % 2 != 0:\n",
        "        text_ += \" \"\n",
        "    \n",
        "    return text_\n"
      ],
      "metadata": {
        "id": "fFSOh6q0JXm1"
      },
      "execution_count": 1,
      "outputs": []
    },
    {
      "cell_type": "code",
      "source": [
        "def get_numlist(text_):\n",
        "    \n",
        "    # empty list to save numbers\n",
        "    numlist_ = []\n",
        "    \n",
        "    # iterate through each character in the clean message\n",
        "    for char in text_:\n",
        "        if char == \" \": # append 26, if it is a whitespace\n",
        "            numlist_.append(26)\n",
        "        else: # append 0-25 number to the corresponding to A-Z letter\n",
        "            numlist_.append(ord(char) - 65)\n",
        "    \n",
        "    # return message as list of number\n",
        "    return numlist_\n",
        "\n",
        "# test it!\n",
        "numbers_msg = get_numlist(\"I LOVE LINEAR ALGEBRA\")\n",
        "print(\"First five numbers in the message:\", numbers_msg[:5])"
      ],
      "metadata": {
        "colab": {
          "base_uri": "https://localhost:8080/"
        },
        "id": "rbllqPkeJgB2",
        "outputId": "00f629d5-9247-4b1d-e882-61fcd536cc60"
      },
      "execution_count": 2,
      "outputs": [
        {
          "output_type": "stream",
          "name": "stdout",
          "text": [
            "First five numbers in the message: [8, 26, 11, 14, 21]\n"
          ]
        }
      ]
    },
    {
      "cell_type": "code",
      "source": [
        "# read a number list into its original message\n",
        "def get_text(numlist_):\n",
        "    return \"\".join([chr(i + 65) if i != 26 else \" \" for i in numlist_])\n",
        "\n",
        "# revert back to text message\n",
        "print(get_text(numbers_msg))"
      ],
      "metadata": {
        "colab": {
          "base_uri": "https://localhost:8080/"
        },
        "id": "753EAvJEJhGj",
        "outputId": "2bb66f6e-6f22-48c0-fdea-66b2c6925e50"
      },
      "execution_count": 3,
      "outputs": [
        {
          "output_type": "stream",
          "name": "stdout",
          "text": [
            "I LOVE LINEAR ALGEBRA\n"
          ]
        }
      ]
    },
    {
      "cell_type": "code",
      "source": [
        "def cipher_matrix(numberlist_):\n",
        "    \n",
        "    ## convert numberlist_ into 1D array\n",
        "    num_array_ = np.array(numberlist_)\n",
        "    \n",
        "    ## reshape num_array to shape (len(numberlist_) // 2, 2)\n",
        "    row_number = int(len(numberlist_)/2)\n",
        "    matrix_array = num_array_.reshape(row_number, 2)\n",
        "    \n",
        "    return matrix_array\n"
      ],
      "metadata": {
        "id": "ZG_FcWwoJgy-"
      },
      "execution_count": 4,
      "outputs": []
    },
    {
      "cell_type": "code",
      "source": [
        "def encrypt_matrix(cipher_, key_):\n",
        "    \n",
        "    ## write a try except to check if the key_ is invertible - if it's not, the function should return None\n",
        "    try:\n",
        "        np.linalg.inv(key_)\n",
        "    except Exception as e:\n",
        "        return None\n",
        "    \n",
        "    ## multiply cipher_ by key_ and return the result\n",
        "    return np.matmul(cipher_, key_)\n",
        "    \n"
      ],
      "metadata": {
        "id": "j1BbtUnoJvt4"
      },
      "execution_count": 5,
      "outputs": []
    },
    {
      "cell_type": "code",
      "source": [
        "def encrypt_message(message_, key_matrix_):\n",
        "    \n",
        "    ## clean message\n",
        "    msg_ = clean_message(message_)\n",
        "    \n",
        "    ## convert message to list of numbers\n",
        "    numlist_ = get_numlist(msg_)\n",
        "    \n",
        "    ## convert list of numbers to cipher matrix\n",
        "    cipher_matrix_ = cipher_matrix(numlist_)\n",
        "    \n",
        "    ## encrypt cipher_matrix_\n",
        "    encrypted_matrix_ = encrypt_matrix(cipher_matrix_, key_matrix_)\n",
        "    \n",
        "    return encrypted_matrix_"
      ],
      "metadata": {
        "id": "6RS-nALbJ94M"
      },
      "execution_count": 6,
      "outputs": []
    },
    {
      "cell_type": "code",
      "source": [
        "def get_text(numlist_):\n",
        "    return \"\".join([chr(i + 65) if i != 26 else \" \" for i in numlist_])"
      ],
      "metadata": {
        "id": "OzoYh26oKQ5b"
      },
      "execution_count": 7,
      "outputs": []
    },
    {
      "cell_type": "code",
      "source": [
        "def decrypt_message(encrypted_matrix_, key_matrix_):\n",
        "    \n",
        "    ## determine the inverse of the key_matrix_\n",
        "    key_matrix_inv_ = np.linalg.inv(key_matrix_)\n",
        "    \n",
        "    ## determine the message matrix (matrix A in the cell above)\n",
        "    original_matrix_ = np.matmul(encrypted_matrix_, key_matrix_inv_)\n",
        "    \n",
        "    ## convert all elements in array to integers (check numpy documentation!)\n",
        "    original_matrix_ = original_matrix_.astype(int)\n",
        "    \n",
        "    ## flatten original_matrix (check numpy documentation!!)\n",
        "    original_matrix = original_matrix_.flatten()\n",
        "    \n",
        "    ## use function get_text() to convert the matrix into a message\n",
        "    original_message_ = get_text(original_matrix)\n",
        "    \n",
        "    return original_message_"
      ],
      "metadata": {
        "id": "SDVcR_6NJvgx"
      },
      "execution_count": 8,
      "outputs": []
    },
    {
      "cell_type": "code",
      "source": [
        "#Exercise 2.3 (ungraded)\n",
        "import numpy as np\n",
        "# Try to find the meaning behind the matrix below\n",
        "hidden_message = np.array([[42, 25], [34, 21], [28, 38], [ 8, 17], [ 0, 26], [52, 45], [14, 26], [52, 30],\n",
        "                           [ 6, 14], [36, 36], [52, 26], [34, 32], [30, 19], [ 4, 28], [40, 34], [36, 35],\n",
        "                           [52, 30], [36, 26], [ 0, 26], [ 8, 26], [28, 32], [ 8, 16]])\n",
        "\n",
        "key_matrix = np.array([[0, 1], [2, 1]])  # here's the key!\n",
        "decrypt_message(hidden_message, key_matrix)"
      ],
      "metadata": {
        "colab": {
          "base_uri": "https://localhost:8080/",
          "height": 35
        },
        "id": "PBMVZnAxJUjW",
        "outputId": "0470213d-b898-4f93-b8fb-0abef2e433e8"
      },
      "execution_count": 11,
      "outputs": [
        {
          "output_type": "execute_result",
          "data": {
            "text/plain": [
              "'EVERYONE AT THE LDSSA PREP COURSE IS AWESOME'"
            ],
            "application/vnd.google.colaboratory.intrinsic+json": {
              "type": "string"
            }
          },
          "metadata": {},
          "execution_count": 11
        }
      ]
    }
  ]
}